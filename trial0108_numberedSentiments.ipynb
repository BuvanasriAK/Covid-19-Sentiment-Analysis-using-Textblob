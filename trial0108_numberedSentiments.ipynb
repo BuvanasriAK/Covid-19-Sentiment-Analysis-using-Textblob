{
 "cells": [
  {
   "cell_type": "code",
   "execution_count": 1,
   "id": "accompanied-following",
   "metadata": {},
   "outputs": [
    {
     "data": {
      "text/html": [
       "<div>\n",
       "<style scoped>\n",
       "    .dataframe tbody tr th:only-of-type {\n",
       "        vertical-align: middle;\n",
       "    }\n",
       "\n",
       "    .dataframe tbody tr th {\n",
       "        vertical-align: top;\n",
       "    }\n",
       "\n",
       "    .dataframe thead th {\n",
       "        text-align: right;\n",
       "    }\n",
       "</style>\n",
       "<table border=\"1\" class=\"dataframe\">\n",
       "  <thead>\n",
       "    <tr style=\"text-align: right;\">\n",
       "      <th></th>\n",
       "      <th>text</th>\n",
       "      <th>sentiment</th>\n",
       "    </tr>\n",
       "  </thead>\n",
       "  <tbody>\n",
       "    <tr>\n",
       "      <th>0</th>\n",
       "      <td>'Chaotic situation': Puerto Ricans indignant a...</td>\n",
       "      <td>1</td>\n",
       "    </tr>\n",
       "    <tr>\n",
       "      <th>1</th>\n",
       "      <td>Assembly in M. J. Rivers by death covid 2 http...</td>\n",
       "      <td>1</td>\n",
       "    </tr>\n",
       "    <tr>\n",
       "      <th>2</th>\n",
       "      <td>@ @ PiotrRadwan1 PiotrWjtowicz6 @MZ_GOV_PL Jus...</td>\n",
       "      <td>1</td>\n",
       "    </tr>\n",
       "    <tr>\n",
       "      <th>3</th>\n",
       "      <td>What is driving an upturn in activity and sale...</td>\n",
       "      <td>0</td>\n",
       "    </tr>\n",
       "    <tr>\n",
       "      <th>4</th>\n",
       "      <td>@TonyHussein4 @RepThomasMassie Far from an ant...</td>\n",
       "      <td>0</td>\n",
       "    </tr>\n",
       "  </tbody>\n",
       "</table>\n",
       "</div>"
      ],
      "text/plain": [
       "                                                text  sentiment\n",
       "0  'Chaotic situation': Puerto Ricans indignant a...          1\n",
       "1  Assembly in M. J. Rivers by death covid 2 http...          1\n",
       "2  @ @ PiotrRadwan1 PiotrWjtowicz6 @MZ_GOV_PL Jus...          1\n",
       "3  What is driving an upturn in activity and sale...          0\n",
       "4  @TonyHussein4 @RepThomasMassie Far from an ant...          0"
      ]
     },
     "execution_count": 1,
     "metadata": {},
     "output_type": "execute_result"
    }
   ],
   "source": [
    "import pandas as pd\n",
    "tweets=pd.read_csv('Datasets/10Rows_numbers.csv')\n",
    "tweets.head()"
   ]
  },
  {
   "cell_type": "code",
   "execution_count": 2,
   "id": "incorrect-failure",
   "metadata": {},
   "outputs": [
    {
     "data": {
      "text/plain": [
       "(10, 2)"
      ]
     },
     "execution_count": 2,
     "metadata": {},
     "output_type": "execute_result"
    }
   ],
   "source": [
    "tweets_df = tweets\n",
    "X=tweets_df['text']\n",
    "y=tweets_df['sentiment']\n",
    "tweets_df.shape"
   ]
  },
  {
   "cell_type": "code",
   "execution_count": 3,
   "id": "daily-stopping",
   "metadata": {},
   "outputs": [
    {
     "data": {
      "text/plain": [
       "(0    'Chaotic situation': Puerto Ricans indignant a...\n",
       " 1    Assembly in M. J. Rivers by death covid 2 http...\n",
       " 2    @ @ PiotrRadwan1 PiotrWjtowicz6 @MZ_GOV_PL Jus...\n",
       " 3    What is driving an upturn in activity and sale...\n",
       " 4    @TonyHussein4 @RepThomasMassie Far from an ant...\n",
       " 5    This is just ridiculous. @ProfEmilyOster write...\n",
       " 6    Thank you @UNHS_Cripps for my full house of Co...\n",
       " 7    Because repairs and cases structure COVID-19. ...\n",
       " 8    @JamesMelville @BreesAnna We want our lives ba...\n",
       " 9    Covid-19. Results of the rapid tests must be c...\n",
       " Name: text, dtype: object,\n",
       " 0    1\n",
       " 1    1\n",
       " 2    1\n",
       " 3    0\n",
       " 4    0\n",
       " 5    0\n",
       " 6    2\n",
       " 7    0\n",
       " 8    0\n",
       " 9    0\n",
       " Name: sentiment, dtype: int64)"
      ]
     },
     "execution_count": 3,
     "metadata": {},
     "output_type": "execute_result"
    }
   ],
   "source": [
    "X, y"
   ]
  },
  {
   "cell_type": "code",
   "execution_count": 4,
   "id": "judicial-algebra",
   "metadata": {},
   "outputs": [
    {
     "name": "stderr",
     "output_type": "stream",
     "text": [
      "[nltk_data] Downloading package stopwords to\n",
      "[nltk_data]     C:\\Users\\dell\\AppData\\Roaming\\nltk_data...\n",
      "[nltk_data]   Package stopwords is already up-to-date!\n"
     ]
    }
   ],
   "source": [
    "from nltk.corpus import stopwords\n",
    "import nltk\n",
    "nltk.download('stopwords')\n",
    "from nltk.stem import PorterStemmer"
   ]
  },
  {
   "cell_type": "code",
   "execution_count": 5,
   "id": "renewable-exhaust",
   "metadata": {},
   "outputs": [],
   "source": [
    "stop_words=stopwords.words('english')\n",
    "stemmer=PorterStemmer()"
   ]
  },
  {
   "cell_type": "code",
   "execution_count": 6,
   "id": "alleged-europe",
   "metadata": {},
   "outputs": [],
   "source": [
    "import re\n",
    "cleaned_data=[]\n",
    "for i in range(len(X)):\n",
    "   tweet=re.sub('[^a-zA-Z]',' ',X.iloc[i])\n",
    "   tweet=tweet.lower().split()\n",
    "   tweet=[stemmer.stem(word) for word in tweet if (word not in stop_words)]\n",
    "   tweet=' '.join(tweet)\n",
    "   cleaned_data.append(tweet)"
   ]
  },
  {
   "cell_type": "code",
   "execution_count": 7,
   "id": "threatened-blind",
   "metadata": {},
   "outputs": [
    {
     "data": {
      "text/plain": [
       "['chaotic situat puerto rican indign tourist break covid mandat http co qyfxewa via yahoo',\n",
       " 'assembl j river death covid http co ge bhwxh u http co olazeitamd worker',\n",
       " 'piotrradwan piotrwjtowicz mz gov pl cancer lectur unfortun covid get regardless stress movement state health know healthi athlet person unfortun die quit c',\n",
       " 'drive upturn activ sale busi sinc covid plu star startup make happen ai startup businesstalk http co urszmnar http co q gboruob',\n",
       " 'tonyhussein repthomasmassi far anti vaxxer toni excus want inject someth bodi littl research done regard long term ramif take said vaccin covid let',\n",
       " 'ridicul profemilyost write incred help book fact crib sheet number one resourc sinc mom agre take kid covid fine stop attack provid opinion differ',\n",
       " 'thank unh cripp full hous covid vaccin dash surgeri vaccin shift amp effici ever well done hughport amp team http co wctm gyhaw',\n",
       " 'repair case structur covid http co oldiodwzxx',\n",
       " 'jamesmelvil breesanna want live back want life go back covid viru threaten human like virus human threaten human want stay home say choic dirt',\n",
       " 'covid result rapid test must commun xa sa de http co pte xnvwxj author']"
      ]
     },
     "execution_count": 7,
     "metadata": {},
     "output_type": "execute_result"
    }
   ],
   "source": [
    "cleaned_data"
   ]
  },
  {
   "cell_type": "code",
   "execution_count": 8,
   "id": "natural-spokesman",
   "metadata": {},
   "outputs": [],
   "source": [
    "from sklearn.feature_extraction.text import CountVectorizer\n",
    "cv=CountVectorizer(max_features=3000,stop_words=['covid19','covid'])\n",
    "X_fin=cv.fit_transform(cleaned_data).toarray()"
   ]
  },
  {
   "cell_type": "code",
   "execution_count": 9,
   "id": "better-american",
   "metadata": {},
   "outputs": [],
   "source": [
    "sentiment_ordering = [1, 0, 2]\n",
    "y = y.apply(lambda x: sentiment_ordering.index(x))"
   ]
  },
  {
   "cell_type": "code",
   "execution_count": 10,
   "id": "engaged-enclosure",
   "metadata": {},
   "outputs": [],
   "source": [
    "from sklearn.naive_bayes import MultinomialNB\n",
    "model=MultinomialNB()"
   ]
  },
  {
   "cell_type": "code",
   "execution_count": 11,
   "id": "powerful-ethics",
   "metadata": {},
   "outputs": [
    {
     "data": {
      "text/plain": [
       "MultinomialNB()"
      ]
     },
     "execution_count": 11,
     "metadata": {},
     "output_type": "execute_result"
    }
   ],
   "source": [
    "from sklearn.model_selection import train_test_split\n",
    "X_train,X_test,y_train,y_test=train_test_split(X_fin,y,test_size=0.3)\n",
    "model.fit(X_train,y_train)"
   ]
  },
  {
   "cell_type": "code",
   "execution_count": 12,
   "id": "better-moral",
   "metadata": {},
   "outputs": [
    {
     "name": "stdout",
     "output_type": "stream",
     "text": [
      "              precision    recall  f1-score   support\n",
      "\n",
      "           0       0.00      0.00      0.00       0.0\n",
      "           1       0.00      0.00      0.00       3.0\n",
      "           2       0.00      0.00      0.00       0.0\n",
      "\n",
      "    accuracy                           0.00       3.0\n",
      "   macro avg       0.00      0.00      0.00       3.0\n",
      "weighted avg       0.00      0.00      0.00       3.0\n",
      "\n"
     ]
    },
    {
     "name": "stderr",
     "output_type": "stream",
     "text": [
      "c:\\users\\dell\\opencv\\lib\\site-packages\\sklearn\\metrics\\_classification.py:1245: UndefinedMetricWarning: Precision and F-score are ill-defined and being set to 0.0 in labels with no predicted samples. Use `zero_division` parameter to control this behavior.\n",
      "  _warn_prf(average, modifier, msg_start, len(result))\n",
      "c:\\users\\dell\\opencv\\lib\\site-packages\\sklearn\\metrics\\_classification.py:1245: UndefinedMetricWarning: Recall and F-score are ill-defined and being set to 0.0 in labels with no true samples. Use `zero_division` parameter to control this behavior.\n",
      "  _warn_prf(average, modifier, msg_start, len(result))\n",
      "c:\\users\\dell\\opencv\\lib\\site-packages\\sklearn\\metrics\\_classification.py:1245: UndefinedMetricWarning: Precision and F-score are ill-defined and being set to 0.0 in labels with no predicted samples. Use `zero_division` parameter to control this behavior.\n",
      "  _warn_prf(average, modifier, msg_start, len(result))\n",
      "c:\\users\\dell\\opencv\\lib\\site-packages\\sklearn\\metrics\\_classification.py:1245: UndefinedMetricWarning: Recall and F-score are ill-defined and being set to 0.0 in labels with no true samples. Use `zero_division` parameter to control this behavior.\n",
      "  _warn_prf(average, modifier, msg_start, len(result))\n",
      "c:\\users\\dell\\opencv\\lib\\site-packages\\sklearn\\metrics\\_classification.py:1245: UndefinedMetricWarning: Precision and F-score are ill-defined and being set to 0.0 in labels with no predicted samples. Use `zero_division` parameter to control this behavior.\n",
      "  _warn_prf(average, modifier, msg_start, len(result))\n",
      "c:\\users\\dell\\opencv\\lib\\site-packages\\sklearn\\metrics\\_classification.py:1245: UndefinedMetricWarning: Recall and F-score are ill-defined and being set to 0.0 in labels with no true samples. Use `zero_division` parameter to control this behavior.\n",
      "  _warn_prf(average, modifier, msg_start, len(result))\n"
     ]
    }
   ],
   "source": [
    "y_pred=model.predict(X_test)\n",
    "from sklearn.metrics import classification_report\n",
    "cf=classification_report(y_test,y_pred)\n",
    "print(cf)"
   ]
  },
  {
   "cell_type": "code",
   "execution_count": null,
   "id": "level-river",
   "metadata": {},
   "outputs": [],
   "source": []
  }
 ],
 "metadata": {
  "kernelspec": {
   "display_name": "Python 3",
   "language": "python",
   "name": "python3"
  },
  "language_info": {
   "codemirror_mode": {
    "name": "ipython",
    "version": 3
   },
   "file_extension": ".py",
   "mimetype": "text/x-python",
   "name": "python",
   "nbconvert_exporter": "python",
   "pygments_lexer": "ipython3",
   "version": "3.7.9"
  }
 },
 "nbformat": 4,
 "nbformat_minor": 5
}
